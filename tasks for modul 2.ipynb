{
 "cells": [
  {
   "cell_type": "markdown",
   "id": "5f81701e-13ad-4b38-bfb1-12b7ac93f9ac",
   "metadata": {},
   "source": [
    "# Modul #2 Tapşırıqları"
   ]
  },
  {
   "cell_type": "code",
   "execution_count": 1,
   "id": "9d432939-b652-4ae2-aa97-6d32e84096a3",
   "metadata": {},
   "outputs": [],
   "source": [
    "# Lazım olan kitabxanalar\n",
    "import numpy as np\n",
    "import warnings"
   ]
  },
  {
   "cell_type": "code",
   "execution_count": 2,
   "id": "f8c25a02-e4b9-44df-96d0-ff2056f73623",
   "metadata": {},
   "outputs": [],
   "source": [
    "warnings.filterwarnings(action = 'ignore')\n",
    "np.random.seed(seed = 42)"
   ]
  },
  {
   "cell_type": "markdown",
   "id": "e126c073-7407-4aea-aeae-145489c8d1dc",
   "metadata": {},
   "source": [
    "***\n",
    "### Tapşırıq #1\n",
    "- Tək dəyərlərdən ibarət (1 dən 100-ə kimi) array data strukturu yarat"
   ]
  },
  {
   "cell_type": "code",
   "execution_count": 4,
   "id": "99e1aea4-e6d4-403e-b98d-60402f330056",
   "metadata": {},
   "outputs": [
    {
     "data": {
      "text/plain": [
       "array([ 1,  3,  5,  7,  9, 11, 13, 15, 17, 19, 21, 23, 25, 27, 29, 31, 33,\n",
       "       35, 37, 39, 41, 43, 45, 47, 49, 51, 53, 55, 57, 59, 61, 63, 65, 67,\n",
       "       69, 71, 73, 75, 77, 79, 81, 83, 85, 87, 89, 91, 93, 95, 97, 99])"
      ]
     },
     "execution_count": 4,
     "metadata": {},
     "output_type": "execute_result"
    }
   ],
   "source": [
    "array = np.arange(start = 1, stop = 100, step = 2)\n",
    "array"
   ]
  },
  {
   "cell_type": "markdown",
   "id": "d38dabe0-976d-4032-92b9-2f87b3ad5905",
   "metadata": {},
   "source": [
    "- Yaradılan həmin array data strukturunu 5 sətir və 10 sütun halına sal"
   ]
  },
  {
   "cell_type": "code",
   "execution_count": 9,
   "id": "4af52fa5-b8e8-4299-934c-3b73f2e5c64a",
   "metadata": {},
   "outputs": [
    {
     "data": {
      "text/plain": [
       "array([[11, 47, 61, 85, 15, 81, 49, 41, 25, 27],\n",
       "       [95, 59, 77,  3, 33, 35, 63, 73, 75, 23],\n",
       "       [19, 69, 89, 37,  7, 13, 21, 45, 39, 87],\n",
       "       [ 9, 57, 93, 67, 71, 97, 29, 91,  5, 83],\n",
       "       [17, 43, 51, 99, 53, 55, 31, 79,  1, 65]])"
      ]
     },
     "execution_count": 9,
     "metadata": {},
     "output_type": "execute_result"
    }
   ],
   "source": [
    "array_reshape = array.reshape(5, 10)\n",
    "array_reshape"
   ]
  },
  {
   "cell_type": "markdown",
   "id": "90028f0b-57df-4579-9079-dd903a9637b6",
   "metadata": {},
   "source": [
    "- Array data strukturunda olan dəyərlərin sırasını random şəkildə qarışdır"
   ]
  },
  {
   "cell_type": "code",
   "execution_count": 13,
   "id": "34bdb9dc-cf8e-4bc1-8d3d-55dca52771db",
   "metadata": {},
   "outputs": [
    {
     "data": {
      "text/plain": [
       "array([89, 55, 25, 57,  3, 21, 59, 79, 73, 49,  7, 13, 83, 41, 77, 95, 75,\n",
       "       33, 97, 69, 87, 61, 47, 19,  9, 27, 91, 35, 81, 85, 53, 37, 99, 67,\n",
       "       17, 15, 65, 39, 45, 51,  1, 93,  5, 29, 31, 71, 63, 11, 23, 43])"
      ]
     },
     "execution_count": 13,
     "metadata": {},
     "output_type": "execute_result"
    }
   ],
   "source": [
    "# kodu bu şərhin altına yaz\n",
    "np.random.shuffle(array)\n",
    "array"
   ]
  },
  {
   "cell_type": "markdown",
   "id": "c19e9813-7b03-4698-b9a5-80f0abae9ac3",
   "metadata": {},
   "source": [
    "- Array data strukturunda olan dəyərlərin sırasını əvvəlki ardıcıllığa uygun olaraq dəyişdir"
   ]
  },
  {
   "cell_type": "code",
   "execution_count": 14,
   "id": "a27dbe05-3595-4dd8-b426-bf0cbf01952d",
   "metadata": {},
   "outputs": [
    {
     "data": {
      "text/plain": [
       "array([ 1,  3,  5,  7,  9, 11, 13, 15, 17, 19, 21, 23, 25, 27, 29, 31, 33,\n",
       "       35, 37, 39, 41, 43, 45, 47, 49, 51, 53, 55, 57, 59, 61, 63, 65, 67,\n",
       "       69, 71, 73, 75, 77, 79, 81, 83, 85, 87, 89, 91, 93, 95, 97, 99])"
      ]
     },
     "execution_count": 14,
     "metadata": {},
     "output_type": "execute_result"
    }
   ],
   "source": [
    "array = np.sort(array)\n",
    "array"
   ]
  },
  {
   "cell_type": "markdown",
   "id": "698b13f0-65f6-4458-a0b7-25bed9307283",
   "metadata": {},
   "source": [
    "- Array data strukturunu düzləşdir yəni ilk yaradıldığı hala qaytar"
   ]
  },
  {
   "cell_type": "code",
   "execution_count": 15,
   "id": "7d667e34-0383-4751-863e-e9a389cbd264",
   "metadata": {},
   "outputs": [
    {
     "data": {
      "text/plain": [
       "array([ 1,  3,  5,  7,  9, 11, 13, 15, 17, 19, 21, 23, 25, 27, 29, 31, 33,\n",
       "       35, 37, 39, 41, 43, 45, 47, 49, 51, 53, 55, 57, 59, 61, 63, 65, 67,\n",
       "       69, 71, 73, 75, 77, 79, 81, 83, 85, 87, 89, 91, 93, 95, 97, 99])"
      ]
     },
     "execution_count": 15,
     "metadata": {},
     "output_type": "execute_result"
    }
   ],
   "source": [
    "array = array.flatten()\n",
    "array"
   ]
  },
  {
   "cell_type": "markdown",
   "id": "ee5f1193-4f23-4c95-ba4d-b73371fddc6c",
   "metadata": {
    "tags": []
   },
   "source": [
    "- Array data strukturunda olan dəyərlərdən 50-dən böyük olan dəyərləri filterlə "
   ]
  },
  {
   "cell_type": "code",
   "execution_count": 58,
   "id": "b3534cc3-970f-4cda-ab8f-126e024eb82f",
   "metadata": {},
   "outputs": [
    {
     "data": {
      "text/plain": [
       "array([51, 53, 55, 57, 59, 61, 63, 65, 67, 69, 71, 73, 75, 77, 79, 81, 83,\n",
       "       85, 87, 89, 91, 93, 95, 97, 99])"
      ]
     },
     "execution_count": 58,
     "metadata": {},
     "output_type": "execute_result"
    }
   ],
   "source": [
    "# method 2:\n",
    "index = array > 50\n",
    "filtered_array = array[index]       \n",
    "filtered_array "
   ]
  },
  {
   "cell_type": "markdown",
   "id": "a1415d0f-aacb-4567-aa4f-09e7cd261ab3",
   "metadata": {},
   "source": [
    "***\n",
    "### Tapşırıq #2\n",
    "- Bütün dəyərləri 0-dan ibarət olan int64 data növlü 3 sətir və 4 sütundan ibarət array yarat "
   ]
  },
  {
   "cell_type": "code",
   "execution_count": 64,
   "id": "237e0a8a-9339-4de0-82ec-10af6b3b7c81",
   "metadata": {},
   "outputs": [
    {
     "data": {
      "text/plain": [
       "array([[0, 0, 0, 0],\n",
       "       [0, 0, 0, 0],\n",
       "       [0, 0, 0, 0]], dtype=int64)"
      ]
     },
     "execution_count": 64,
     "metadata": {},
     "output_type": "execute_result"
    }
   ],
   "source": [
    "zeros = np.zeros(shape = (3, 4), dtype = np.int64)\n",
    "zeros"
   ]
  },
  {
   "cell_type": "markdown",
   "id": "a6a5f539-5c73-4289-84cf-354ca6b94e70",
   "metadata": {},
   "source": [
    "- Bütün dəyərləri 1-dan ibarət olan int64 data növlü 3 sətir və 4 sütundan ibarət array yarat "
   ]
  },
  {
   "cell_type": "code",
   "execution_count": 70,
   "id": "607e8664-9135-4749-ac66-5f0abde66aec",
   "metadata": {},
   "outputs": [
    {
     "data": {
      "text/plain": [
       "array([[1, 1, 1, 1],\n",
       "       [1, 1, 1, 1],\n",
       "       [1, 1, 1, 1]], dtype=int64)"
      ]
     },
     "execution_count": 70,
     "metadata": {},
     "output_type": "execute_result"
    }
   ],
   "source": [
    "ones = np.ones(shape = (3, 4), dtype = np.int64) \n",
    "ones"
   ]
  },
  {
   "cell_type": "markdown",
   "id": "b063a86e-9795-40d6-910f-41f6a0c6a0db",
   "metadata": {},
   "source": [
    "- Hər iki array-i vertikal şəkildə birləşdir (birləşdirmə zamanı array sırasının fərqi yoxdur)"
   ]
  },
  {
   "cell_type": "code",
   "execution_count": 81,
   "id": "46dc9df6-0528-4f42-b4cb-4264abb30b91",
   "metadata": {},
   "outputs": [
    {
     "data": {
      "text/plain": [
       "array([[0, 0, 0, 0],\n",
       "       [0, 0, 0, 0],\n",
       "       [0, 0, 0, 0],\n",
       "       [1, 1, 1, 1],\n",
       "       [1, 1, 1, 1],\n",
       "       [1, 1, 1, 1]], dtype=int64)"
      ]
     },
     "execution_count": 81,
     "metadata": {},
     "output_type": "execute_result"
    }
   ],
   "source": [
    "combined_array = np.vstack(tup = (zeros, ones))\n",
    "combined_array"
   ]
  },
  {
   "cell_type": "markdown",
   "id": "a3ae78d8-d14d-4f98-ab51-ba1d10d5f006",
   "metadata": {},
   "source": [
    "- Birləşdirilən array data strukturunda olan sətirlərin sayı qədər dəyərdən ibarət olan ardıcıl şəkildə düzülmüş array yarat (0-dan başlayır ilk dəyər)"
   ]
  },
  {
   "cell_type": "code",
   "execution_count": 83,
   "id": "12ea5c90-05d3-40a6-a7e4-fbcba95437ba",
   "metadata": {},
   "outputs": [
    {
     "data": {
      "text/plain": [
       "array([0, 1, 2, 3, 4, 5])"
      ]
     },
     "execution_count": 83,
     "metadata": {},
     "output_type": "execute_result"
    }
   ],
   "source": [
    "new_array = np.arange(combined_array.shape[0])\n",
    "new_array"
   ]
  },
  {
   "cell_type": "markdown",
   "id": "9cc272ea-bae1-42c0-b1d9-084a4dae752a",
   "metadata": {},
   "source": [
    "- Yeni yaradılan arrayin ölçüsünü dəyişərək dəyərlərin sayı qədər sətir yarat, yəni hər bir dəyər bir sətir olsun"
   ]
  },
  {
   "cell_type": "code",
   "execution_count": 85,
   "id": "ceee6425-60ab-41de-a6a1-232ceb5547bd",
   "metadata": {},
   "outputs": [
    {
     "data": {
      "text/plain": [
       "array([[0],\n",
       "       [1],\n",
       "       [2],\n",
       "       [3],\n",
       "       [4],\n",
       "       [5]])"
      ]
     },
     "execution_count": 85,
     "metadata": {},
     "output_type": "execute_result"
    }
   ],
   "source": [
    "new_array = new_array.reshape(-1, 1)\n",
    "new_array"
   ]
  },
  {
   "cell_type": "markdown",
   "id": "e740b4c4-c479-4204-8c15-338dccd3823b",
   "metadata": {},
   "source": [
    "- Bu arrayi **combined_array**-ə horizontal şəkildə birləşdir"
   ]
  },
  {
   "cell_type": "code",
   "execution_count": 86,
   "id": "c2241ea0-02e6-4fe3-a849-72180f36fb8b",
   "metadata": {},
   "outputs": [
    {
     "data": {
      "text/plain": [
       "array([[0, 0, 0, 0, 0],\n",
       "       [1, 0, 0, 0, 0],\n",
       "       [2, 0, 0, 0, 0],\n",
       "       [3, 1, 1, 1, 1],\n",
       "       [4, 1, 1, 1, 1],\n",
       "       [5, 1, 1, 1, 1]], dtype=int64)"
      ]
     },
     "execution_count": 86,
     "metadata": {},
     "output_type": "execute_result"
    }
   ],
   "source": [
    "array = np.hstack(tup = (new_array, combined_array))\n",
    "array"
   ]
  },
  {
   "cell_type": "markdown",
   "id": "1a0464e4-bfb0-4990-acfa-c6ea00601174",
   "metadata": {},
   "source": [
    "- Horizontal şəkildə birləşdirilmiş array-dən unikal dəyərlərdən ibarət yeni array yarat"
   ]
  },
  {
   "cell_type": "code",
   "execution_count": 87,
   "id": "00544657-ea4e-498f-b066-e60dd40f8195",
   "metadata": {},
   "outputs": [
    {
     "data": {
      "text/plain": [
       "array([0, 1, 2, 3, 4, 5], dtype=int64)"
      ]
     },
     "execution_count": 87,
     "metadata": {},
     "output_type": "execute_result"
    }
   ],
   "source": [
    "unique_array = np.unique(array)\n",
    "unique_array"
   ]
  },
  {
   "cell_type": "markdown",
   "id": "72bee095-9dd9-40ac-bdf8-71bc38d1ba0b",
   "metadata": {},
   "source": [
    "- Unikal dəyərlərdən ibarət olan array-də 2-ə bərabər və ya böyük dəyərləri \"2-ə bərabər və ya böyük\" 2-dən kiçik dəyərləri isə \"2-dən kiçik\" kimi əvəzlə"
   ]
  },
  {
   "cell_type": "code",
   "execution_count": 88,
   "id": "d848974d-1a6a-4b9a-849c-c85d37082f54",
   "metadata": {},
   "outputs": [
    {
     "data": {
      "text/plain": [
       "array(['2-dən kiçik', '2-dən kiçik', '2-ə bərabər və ya böyük',\n",
       "       '2-ə bərabər və ya böyük', '2-ə bərabər və ya böyük',\n",
       "       '2-ə bərabər və ya böyük'], dtype='<U23')"
      ]
     },
     "execution_count": 88,
     "metadata": {},
     "output_type": "execute_result"
    }
   ],
   "source": [
    "array = np.where(unique_array >= 2, '2-ə bərabər və ya böyük', '2-dən kiçik')\n",
    "array"
   ]
  },
  {
   "cell_type": "markdown",
   "id": "bbfaee9b-0363-477e-9c97-4c387487942e",
   "metadata": {},
   "source": [
    "***\n",
    "### Tapşırıq #3\n",
    "- Dəyərləri 1-dən 24-ə kimi (24 daxildir) 4 sətir və 6 sütundan ibarət array yarat"
   ]
  },
  {
   "cell_type": "code",
   "execution_count": 97,
   "id": "1908f187-e33a-4cfa-95c0-8cd3ab1328f1",
   "metadata": {},
   "outputs": [
    {
     "data": {
      "text/plain": [
       "array([[ 1,  2,  3,  4,  5,  6],\n",
       "       [ 7,  8,  9, 10, 11, 12],\n",
       "       [13, 14, 15, 16, 17, 18],\n",
       "       [19, 20, 21, 22, 23, 24]])"
      ]
     },
     "execution_count": 97,
     "metadata": {},
     "output_type": "execute_result"
    }
   ],
   "source": [
    "array = np.arange(start = 1, stop = 25).reshape(4, 6)\n",
    "array"
   ]
  },
  {
   "cell_type": "markdown",
   "id": "549fdb9d-7784-431d-a6c5-ad5291955785",
   "metadata": {},
   "source": [
    "- Array-də ilk sətirin sonuncu dəyərini və son sətrin ilk dəyərini filterlə"
   ]
  },
  {
   "cell_type": "code",
   "execution_count": 100,
   "id": "449a5141-ff6d-4ad1-8ad1-a6f82a991e0a",
   "metadata": {},
   "outputs": [
    {
     "data": {
      "text/plain": [
       "array([ 6, 19])"
      ]
     },
     "execution_count": 100,
     "metadata": {},
     "output_type": "execute_result"
    }
   ],
   "source": [
    "array[[0, -1], [-1, 0]]"
   ]
  },
  {
   "cell_type": "markdown",
   "id": "d1fde534-3455-47fc-8d03-cb17fed9f9c3",
   "metadata": {},
   "source": [
    "- Array-də ilk sətirin və 3-cü sətirlərin son 3 dəyərini filterlə"
   ]
  },
  {
   "cell_type": "code",
   "execution_count": 104,
   "id": "a6b3c83c-4fbc-463e-8268-f76a8f4d8c3c",
   "metadata": {},
   "outputs": [
    {
     "data": {
      "text/plain": [
       "array([[ 4,  5,  6],\n",
       "       [16, 17, 18]])"
      ]
     },
     "execution_count": 104,
     "metadata": {},
     "output_type": "execute_result"
    }
   ],
   "source": [
    "array[[0, 2], -3:]"
   ]
  },
  {
   "cell_type": "markdown",
   "id": "85d892b2-9277-4140-b889-458a034c113f",
   "metadata": {},
   "source": [
    "- Array-də bütün sətirlərin və 3-cü və 4-cü dəyərlərini filterlə"
   ]
  },
  {
   "cell_type": "code",
   "execution_count": 105,
   "id": "a9366846-7cf6-4f9c-8882-7268a5a8059a",
   "metadata": {},
   "outputs": [
    {
     "data": {
      "text/plain": [
       "array([[ 3,  4],\n",
       "       [ 9, 10],\n",
       "       [15, 16],\n",
       "       [21, 22]])"
      ]
     },
     "execution_count": 105,
     "metadata": {},
     "output_type": "execute_result"
    }
   ],
   "source": [
    "array[:4, [2,3]]"
   ]
  },
  {
   "cell_type": "markdown",
   "id": "18879471-2829-4829-b633-03356da591c6",
   "metadata": {},
   "source": [
    "- Array-də maksimum dəyəri göstər"
   ]
  },
  {
   "cell_type": "code",
   "execution_count": 107,
   "id": "eb10e631-c0e8-4a76-abba-30de47427de7",
   "metadata": {},
   "outputs": [
    {
     "data": {
      "text/plain": [
       "24"
      ]
     },
     "execution_count": 107,
     "metadata": {},
     "output_type": "execute_result"
    }
   ],
   "source": [
    "np.max(array)"
   ]
  },
  {
   "cell_type": "markdown",
   "id": "92aceae2-1805-4ba5-8e13-a210d239f492",
   "metadata": {},
   "source": [
    "- Array-də minimum dəyəri göstər"
   ]
  },
  {
   "cell_type": "code",
   "execution_count": 108,
   "id": "dc71e508-4f1e-4598-b228-6409e4062a25",
   "metadata": {},
   "outputs": [
    {
     "data": {
      "text/plain": [
       "1"
      ]
     },
     "execution_count": 108,
     "metadata": {},
     "output_type": "execute_result"
    }
   ],
   "source": [
    "np.min(array)"
   ]
  },
  {
   "cell_type": "markdown",
   "id": "11f00b7d-ab05-4af9-b222-97d6bad543ee",
   "metadata": {},
   "source": [
    "- Array-də ortalama dəyəri göstər"
   ]
  },
  {
   "cell_type": "code",
   "execution_count": 109,
   "id": "c651e02b-97ec-45a8-ad6f-25169becdf2b",
   "metadata": {},
   "outputs": [
    {
     "data": {
      "text/plain": [
       "12.5"
      ]
     },
     "execution_count": 109,
     "metadata": {},
     "output_type": "execute_result"
    }
   ],
   "source": [
    "np.mean(array)"
   ]
  },
  {
   "cell_type": "markdown",
   "id": "1cee9807-df88-4355-96dd-0d8c310bb671",
   "metadata": {},
   "source": [
    "- Array-də median dəyəri göstər"
   ]
  },
  {
   "cell_type": "code",
   "execution_count": 111,
   "id": "3e115ce8-3f77-4867-97f4-70efe3b7e369",
   "metadata": {},
   "outputs": [
    {
     "data": {
      "text/plain": [
       "12.5"
      ]
     },
     "execution_count": 111,
     "metadata": {},
     "output_type": "execute_result"
    }
   ],
   "source": [
    "np.median(array)"
   ]
  },
  {
   "cell_type": "markdown",
   "id": "3f917195-56fb-4f10-83ab-c9fa170d56aa",
   "metadata": {},
   "source": [
    "- Təsadüfi 10 integer dəyərdən ibarət, minimum ala biləcəyi dəyər 10 maksimum ala biləcəyi dəyər isə 100 ola biləcək array yarat"
   ]
  },
  {
   "cell_type": "code",
   "execution_count": 114,
   "id": "a6b8b0a7-2f92-4adb-8410-e4d25a2c21a5",
   "metadata": {},
   "outputs": [
    {
     "data": {
      "text/plain": [
       "array([61, 24, 81, 70, 30, 92, 96, 84, 84, 97])"
      ]
     },
     "execution_count": 114,
     "metadata": {},
     "output_type": "execute_result"
    }
   ],
   "source": [
    "np.random.seed(seed = 42)\n",
    "\n",
    "random_array = np.random.randint(low = 10, high = 101, size = 10)\n",
    "random_array"
   ]
  },
  {
   "cell_type": "markdown",
   "id": "8cbc324a-4838-4cc7-8781-10f8870cbc3c",
   "metadata": {},
   "source": [
    "- Bu array-də maksimum dəyərin indeksini göstər"
   ]
  },
  {
   "cell_type": "code",
   "execution_count": 117,
   "id": "5fa32d53-da96-467a-aa05-af21e52ac7a0",
   "metadata": {},
   "outputs": [
    {
     "data": {
      "text/plain": [
       "9"
      ]
     },
     "execution_count": 117,
     "metadata": {},
     "output_type": "execute_result"
    }
   ],
   "source": [
    "random_array.argmax()"
   ]
  },
  {
   "cell_type": "markdown",
   "id": "2d5117db-90f5-4797-b156-b3dc9dc80cba",
   "metadata": {},
   "source": [
    "- Bu array-də minimum dəyərin indeksini göstər"
   ]
  },
  {
   "cell_type": "code",
   "execution_count": 118,
   "id": "0844850c-a942-4cde-bad7-6c9b6c4de0e4",
   "metadata": {},
   "outputs": [
    {
     "data": {
      "text/plain": [
       "1"
      ]
     },
     "execution_count": 118,
     "metadata": {},
     "output_type": "execute_result"
    }
   ],
   "source": [
    "np.argmin(random_array)"
   ]
  },
  {
   "cell_type": "markdown",
   "id": "5de45500-1f37-4ccd-8b6f-dd7f856cfdf8",
   "metadata": {},
   "source": [
    "***\n",
    "### Tapşırıq #4\n",
    "- Dəyərləri Əsəd, Gülnar, Anar və Rəna-dan ibarət olan array yarat"
   ]
  },
  {
   "cell_type": "code",
   "execution_count": 120,
   "id": "635e0d83-39c3-4315-b83a-9e43e3a675bb",
   "metadata": {},
   "outputs": [
    {
     "data": {
      "text/plain": [
       "array(['Əsəd', 'Gülnar', 'Anar', 'Rəna'], dtype='<U6')"
      ]
     },
     "execution_count": 120,
     "metadata": {},
     "output_type": "execute_result"
    }
   ],
   "source": [
    "array = np.array(object = ['Əsəd', 'Gülnar', 'Anar', 'Rəna'])\n",
    "array"
   ]
  },
  {
   "cell_type": "markdown",
   "id": "935dcd91-129b-410e-93c3-11b2f5cda9e1",
   "metadata": {},
   "source": [
    "- Array-də olan bütün adların ilk hərfini kiçilt"
   ]
  },
  {
   "cell_type": "code",
   "execution_count": 122,
   "id": "afd983b8-db20-4fab-9ac1-65b8a5cf0574",
   "metadata": {},
   "outputs": [
    {
     "data": {
      "text/plain": [
       "array(['əsəd', 'gülnar', 'anar', 'rəna'], dtype='<U6')"
      ]
     },
     "execution_count": 122,
     "metadata": {},
     "output_type": "execute_result"
    }
   ],
   "source": [
    "array = np.char.lower(array)\n",
    "array"
   ]
  },
  {
   "cell_type": "markdown",
   "id": "10f7dc84-6afc-4b1a-ae46-08081e3cb359",
   "metadata": {},
   "source": [
    "- Array-də olan bütün adların bütün hərflərini böyüt"
   ]
  },
  {
   "cell_type": "code",
   "execution_count": 124,
   "id": "ffab28b5-3358-4b82-9e5b-0d7bf6ac6cd6",
   "metadata": {},
   "outputs": [
    {
     "data": {
      "text/plain": [
       "array(['ƏSƏD', 'GÜLNAR', 'ANAR', 'RƏNA'], dtype='<U6')"
      ]
     },
     "execution_count": 124,
     "metadata": {},
     "output_type": "execute_result"
    }
   ],
   "source": [
    "array = np.char.upper(array)\n",
    "array"
   ]
  },
  {
   "cell_type": "markdown",
   "id": "3b0f5297-a36a-4e9f-8670-49a61296ea6e",
   "metadata": {},
   "source": [
    "- Array-də olan bütün adların ilk hərfini böyük saxla qalan hərfləri kiçilt"
   ]
  },
  {
   "cell_type": "code",
   "execution_count": 126,
   "id": "0c14974e-8374-4bb5-b257-5312da93545e",
   "metadata": {},
   "outputs": [
    {
     "data": {
      "text/plain": [
       "array(['Əsəd', 'Gülnar', 'Anar', 'Rəna'], dtype='<U6')"
      ]
     },
     "execution_count": 126,
     "metadata": {},
     "output_type": "execute_result"
    }
   ],
   "source": [
    "array = np.char.capitalize(array)\n",
    "array"
   ]
  },
  {
   "cell_type": "markdown",
   "id": "a0f863f3-4334-48c5-a708-f20d38b131d4",
   "metadata": {},
   "source": [
    "- Array-də A hərfi ilə başlayan adı filterlə"
   ]
  },
  {
   "cell_type": "code",
   "execution_count": 128,
   "id": "a7dfccd6-d426-46ea-a5b6-3f0fed289b7a",
   "metadata": {},
   "outputs": [
    {
     "data": {
      "text/plain": [
       "array([False, False,  True, False])"
      ]
     },
     "execution_count": 128,
     "metadata": {},
     "output_type": "execute_result"
    }
   ],
   "source": [
    "np.char.startswith(array, prefix = 'A')"
   ]
  },
  {
   "cell_type": "markdown",
   "id": "5a29deee-a87d-4cce-ae68-e2a0d4333683",
   "metadata": {},
   "source": [
    "- Array-də r hərfi ilə bitən ad(ları) filterlə"
   ]
  },
  {
   "cell_type": "code",
   "execution_count": 130,
   "id": "baabdd7c-e73f-4f24-b7cf-cf5ba35c5567",
   "metadata": {},
   "outputs": [
    {
     "data": {
      "text/plain": [
       "array([False,  True,  True, False])"
      ]
     },
     "execution_count": 130,
     "metadata": {},
     "output_type": "execute_result"
    }
   ],
   "source": [
    "np.char.endswith(array, suffix = 'r')"
   ]
  },
  {
   "cell_type": "code",
   "execution_count": null,
   "id": "a4d32e19-5d2c-4596-aa04-be4dd881044f",
   "metadata": {},
   "outputs": [],
   "source": []
  }
 ],
 "metadata": {
  "kernelspec": {
   "display_name": "Python 3 (ipykernel)",
   "language": "python",
   "name": "python3"
  },
  "language_info": {
   "codemirror_mode": {
    "name": "ipython",
    "version": 3
   },
   "file_extension": ".py",
   "mimetype": "text/x-python",
   "name": "python",
   "nbconvert_exporter": "python",
   "pygments_lexer": "ipython3",
   "version": "3.11.3"
  }
 },
 "nbformat": 4,
 "nbformat_minor": 5
}
